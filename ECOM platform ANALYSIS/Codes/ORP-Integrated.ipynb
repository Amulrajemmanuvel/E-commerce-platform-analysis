{
 "cells": [
  {
   "cell_type": "markdown",
   "metadata": {},
   "source": [
    "ORP Integrated Code"
   ]
  },
  {
   "cell_type": "code",
   "execution_count": null,
   "metadata": {},
   "outputs": [],
   "source": [
    "import pandas as pd\n",
    "\n",
    "def add_data_n_question(orders_loc, returns_loc, payments_loc, question):\n",
    "    try:\n",
    "        orders_df = pd.read_csv(orders_loc)\n",
    "        returns_df = pd.read_csv(returns_loc)\n",
    "        payments_df = pd.read_csv(payments_loc)\n",
    "        print(f\"Data from {orders_loc}, {returns_loc}, and {payments_loc} added successfully.\")\n",
    "        # Here you can process the data and question as needed\n",
    "        # For example, you might store them or perform some analysis\n",
    "    except Exception as e:\n",
    "        print(f\"Failed to read data from the provided locations. Error: {e}\")\n",
    "\n",
    "def ask_new_question(orders_loc, returns_loc, payments_loc, question):\n",
    "    try:\n",
    "        orders_df = pd.read_csv(orders_loc)\n",
    "        returns_df = pd.read_csv(returns_loc)\n",
    "        payments_df = pd.read_csv(payments_loc)\n",
    "        print(f\"Reading data from {orders_loc}, {returns_loc}, and {payments_loc} to answer the question.\")\n",
    "        # Process the question with the existing data\n",
    "        # Implement your logic to answer the question\n",
    "        print(f\"Question: {question}\")\n",
    "        # Example processing\n",
    "        print(\"Processing the question with the existing data...\")\n",
    "    except Exception as e:\n",
    "        print(f\"Failed to read data from the provided locations. Error: {e}\")  "
   ]
  },
  {
   "cell_type": "code",
   "execution_count": null,
   "metadata": {},
   "outputs": [],
   "source": [
    "flag = True\n",
    "while flag:\n",
    "    option = int(input(\"1. Add new Data and question.\\n2. Ask new question on same data.\\n3. Exit\\nChoose an option: \"))\n",
    "    if option == 1:\n",
    "        orders_loc = input(\"Add location of Orders dataset: \")\n",
    "        returns_loc = input(\"Add location of Returns dataset: \")\n",
    "        payments_loc = input(\"Add location of Payments dataset: \")\n",
    "        question = input(\"Ask your question: \")\n",
    "        if orders_loc.endswith(\".csv\") and returns_loc.endswith(\".csv\") and payments_loc.endswith(\".csv\"):\n",
    "            add_data_n_question(orders_loc, returns_loc, payments_loc, question)\n",
    "        else:\n",
    "            print(\"All data files must be in csv format.\")\n",
    "\n",
    "    elif option == 2:\n",
    "        orders_loc = input(\"Read location of existing Orders dataset: \")\n",
    "        returns_loc = input(\"Read location of existing Returns dataset: \")\n",
    "        payments_loc = input(\"Read location of existing Payments dataset: \")\n",
    "        question = input(\"Ask another question: \")\n",
    "        if orders_loc.endswith(\".csv\") and returns_loc.endswith(\".csv\") and payments_loc.endswith(\".csv\"):\n",
    "            ask_new_question(orders_loc, returns_loc, payments_loc, question)\n",
    "        else:\n",
    "            print(\"All data files must be in csv format.\")\n",
    "\n",
    "    elif option == 3:\n",
    "        print(\"Thank you!!\")\n",
    "        flag = False\n",
    "    else:\n",
    "        print(\"Choose the correct option!!\")"
   ]
  }
 ],
 "metadata": {
  "kernelspec": {
   "display_name": "base",
   "language": "python",
   "name": "python3"
  },
  "language_info": {
   "name": "python",
   "version": "3.11.7"
  }
 },
 "nbformat": 4,
 "nbformat_minor": 2
}
